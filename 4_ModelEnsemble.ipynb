{
 "cells": [
  {
   "cell_type": "code",
   "execution_count": 1,
   "outputs": [],
   "source": [
    "import pandas as pd\n",
    "import numpy as np\n",
    "import time\n",
    "\n",
    "from sklearn.linear_model import LogisticRegression\n",
    "from sklearn.ensemble import RandomForestClassifier\n",
    "from sklearn.ensemble import GradientBoostingClassifier\n",
    "\n",
    "from sklearn.preprocessing import StandardScaler\n",
    "\n",
    "from sklearn.model_selection import train_test_split\n",
    "from sklearn.model_selection import StratifiedKFold\n",
    "\n",
    "from sklearn.metrics import roc_auc_score\n",
    "\n",
    "from imblearn.combine import SMOTETomek\n"
   ],
   "metadata": {
    "collapsed": false,
    "pycharm": {
     "name": "#%%\n"
    }
   }
  },
  {
   "cell_type": "code",
   "execution_count": 2,
   "outputs": [],
   "source": [
    "train_data = pd.read_csv('train150.csv',nrows=None)"
   ],
   "metadata": {
    "collapsed": false,
    "pycharm": {
     "name": "#%%\n"
    }
   }
  },
  {
   "cell_type": "code",
   "execution_count": 3,
   "outputs": [],
   "source": [
    "features_columns = [col for col in train_data.columns if col not in ['user_id','label']]\n",
    "train = train_data[features_columns].values\n",
    "target = train_data['label'].values\n"
   ],
   "metadata": {
    "collapsed": false,
    "pycharm": {
     "name": "#%%\n"
    }
   }
  },
  {
   "cell_type": "code",
   "execution_count": 4,
   "outputs": [],
   "source": [
    "# Stacking on local CV 比较耗时，所以先return第一层结果，函数外再做第二层的LR\n",
    "# def LocalStacking(train, target):\n",
    "#     # base classifier\n",
    "#     clf_name = ['GBDT','LR']\n",
    "#     clf_list = [GradientBoostingClassifier(),LogisticRegression()]\n",
    "#     # GradientBoostingClassifier(learning_rate=0.05, subsample=0.5, max_depth=6, n_estimators=5)\n",
    "#     # RandomForestClassifier(n_estimators=5, n_jobs=-1, criterion='gini'),\n",
    "#     # ExtraTreesClassifier(n_estimators=5, n_jobs=-1, criterion='gini'),\n",
    "#     # ExtraTreesClassifier(n_estimators=5, n_jobs=-1, criterion='entropy'),\n",
    "#\n",
    "#     #切分一部分数据作为测试集\n",
    "#     X_train, X_test, y_train, y_test = train_test_split(train, target, test_size=0.3, random_state=2020)\n",
    "#\n",
    "#     blend_train = np.zeros((y_train.shape[0], len(clf_list)))\n",
    "#     blend_test = np.zeros((y_test.shape[0], len(clf_list)))\n",
    "#\n",
    "#     #5 fold stacking\n",
    "#     n_splits = 5\n",
    "#     skf = StratifiedKFold(n_splits)\n",
    "#     skf = skf.split(X_train, y_train)\n",
    "#     skf_list = list(enumerate(skf)) # 市面上代码的问题：不能直接把enumerate(skf)放在内循环，\n",
    "                                      #要先转换为list或dict，因为在外循环第二轮时内循环会跳过\n",
    "#     for i, clf in enumerate(clf_list):\n",
    "#         blend_test_i = np.zeros((y_test.shape[0], 5))\n",
    "#         for j, (train, test) in skf_list:\n",
    "#             #5-Fold交叉训练第i个模型，使用第j个fold作为预测，剩余的folds来训练模型，合并对jth fold的k次预测作为训练集的新特征\n",
    "#             X_cv_train, y_cv_train, X_cv_test, y_cv_test = X_train[train], y_train[train], X_train[test], y_train[test]\n",
    "#             #有些模型需要对特征做标准化，比如LogisticRegression(),LinearSVC(),SVC(),GaussianNB()\n",
    "#             if clf_name[i] in ['LR','LSVC','SVC','NB']:\n",
    "#                 X_cv_train_tran = StandardScaler().fit_transform(X_cv_train)\n",
    "#                 X_cv_test_tran = StandardScaler().fit_transform(X_cv_test)\n",
    "#                 X_test_tran = StandardScaler().fit_transform(X_test)\n",
    "#                 start = time.time()\n",
    "#                 clf.fit(X_cv_train_tran, y_cv_train)\n",
    "#                 y_pred_j = clf.predict_proba(X_cv_test_tran)[:, 1]\n",
    "#                 blend_train[test, i] = y_pred_j\n",
    "#                 blend_test_i[:, j] = clf.predict_proba(X_test_tran)[:, 1]\n",
    "#                 end = time.time()\n",
    "#             else:\n",
    "#                 start = time.time()\n",
    "#                 clf.fit(X_cv_train, y_cv_train)\n",
    "#                 y_pred_j = clf.predict_proba(X_cv_test)[:, 1]\n",
    "#                 blend_train[test, i] = y_pred_j\n",
    "#                 blend_test_i[:, j] = clf.predict_proba(X_test)[:, 1]\n",
    "#                 end = time.time()\n",
    "#             print(clf_name[i], n_splits, \"fold CV\", j, \"round's AUC: %f\" % roc_auc_score(y_cv_test, y_pred_j), \"cost time:\", end-start)\n",
    "#         #对于测试集，直接用k次预测值的均值作为新特征。\n",
    "#         blend_test[:, i] = blend_test_i.mean(1)\n",
    "#         print(clf_name[i], \"mean prediction's AUC: %f\" % roc_auc_score(y_test, blend_test[:, i]))\n",
    "#\n",
    "#     return blend_train, y_train, blend_test, y_test"
   ],
   "metadata": {
    "collapsed": false,
    "pycharm": {
     "name": "#%%\n"
    }
   }
  },
  {
   "cell_type": "code",
   "execution_count": 5,
   "outputs": [],
   "source": [
    "# blend_train, y_train, blend_test, y_test = LocalStacking(train, target)\n",
    "# blend_train1, y_train1 = SMOTETomek().fit_sample(blend_train, y_train)\n",
    "#\n",
    "# blend_train2 = StandardScaler().fit_transform(blend_train1)\n",
    "# blend_test2 = StandardScaler().fit_transform(blend_test)\n",
    "# meta_clf = LogisticRegression()\n",
    "# # 混合采样，效果要试过才知道\n",
    "# meta_clf.fit(blend_train2, y_train1)\n",
    "# y_submission = meta_clf.predict_proba(blend_test2)[:, 1]\n",
    "#\n",
    "# print(\"Stacking AUC: %f\" % (roc_auc_score(y_test, y_submission)))"
   ],
   "metadata": {
    "collapsed": false,
    "pycharm": {
     "name": "#%%\n"
    }
   }
  },
  {
   "cell_type": "code",
   "execution_count": 6,
   "outputs": [],
   "source": [
    "test_data = pd.read_csv('test150.csv',nrows=None)\n",
    "test = test_data[features_columns].values"
   ],
   "metadata": {
    "collapsed": false,
    "pycharm": {
     "name": "#%%\n"
    }
   }
  },
  {
   "cell_type": "code",
   "execution_count": 7,
   "outputs": [],
   "source": [
    "# Online Submission Stacking\n",
    "def OnlineStacking(train, target, test):\n",
    "    # base classifier\n",
    "    clf_name = ['GBDT','LR']\n",
    "    clf_list = [GradientBoostingClassifier(),LogisticRegression()]\n",
    "\n",
    "    blend_train = np.zeros((target.shape[0], len(clf_list)))\n",
    "    blend_test = np.zeros((test.shape[0], len(clf_list)))\n",
    "\n",
    "    #5 fold stacking\n",
    "    n_splits = 5\n",
    "    skf = StratifiedKFold(n_splits)\n",
    "    skf = skf.split(train, target)\n",
    "    skf_list = list(enumerate(skf))\n",
    "    for i, clf in enumerate(clf_list):\n",
    "        blend_test_i = np.zeros((test.shape[0], 5))\n",
    "        for j, (train_index, test_index) in skf_list:\n",
    "            #5-Fold交叉训练第i个模型，使用第j个fold作为预测，剩余的folds来训练模型，合并对jth fold的k次预测作为训练集的新特征\n",
    "            X_cv_train, y_cv_train, X_cv_test, y_cv_test = train[train_index], target[train_index], train[test_index], target[test_index]\n",
    "            #有些模型需要对特征做标准化，比如LogisticRegression(),LinearSVC(),SVC(),GaussianNB()\n",
    "            if clf_name[i] in ['LR','LSVC','SVC','NB']:\n",
    "                X_cv_train_tran = StandardScaler().fit_transform(X_cv_train)\n",
    "                X_cv_test_tran = StandardScaler().fit_transform(X_cv_test)\n",
    "                train_tran = StandardScaler().fit_transform(train)\n",
    "                start = time.time()\n",
    "                clf.fit(X_cv_train_tran, y_cv_train)\n",
    "                y_pred_j = clf.predict_proba(X_cv_test_tran)[:, 1]\n",
    "                blend_train[test_index, i] = y_pred_j\n",
    "                blend_test_i[:, j] = clf.predict_proba(train_tran)[:, 1]\n",
    "                end = time.time()\n",
    "            else:\n",
    "                start = time.time()\n",
    "                clf.fit(X_cv_train, y_cv_train)\n",
    "                y_pred_j = clf.predict_proba(X_cv_test)[:, 1]\n",
    "                blend_train[test_index, i] = y_pred_j\n",
    "                blend_test_i[:, j] = clf.predict_proba(test)[:, 1]\n",
    "                end = time.time()\n",
    "            print(clf_name[i], n_splits, \"fold CV\", j, \"round's AUC: %f\" % roc_auc_score(y_cv_test, y_pred_j), \"cost time:\", end-start)\n",
    "        #对于测试集，直接用k次预测值的均值作为新特征。\n",
    "        blend_test[:, i] = blend_test_i.mean(1)\n",
    "\n",
    "    meta_clf = LogisticRegression()\n",
    "    blend_train1, target1 = SMOTETomek().fit_sample(blend_train, target)\n",
    "    blend_train2 = StandardScaler().fit_transform(blend_train1)\n",
    "    blend_test2 = StandardScaler().fit_transform(blend_test)\n",
    "    meta_clf.fit(blend_train2, target1)\n",
    "    y_submission = meta_clf.predict_proba(blend_test2)[:, 1]\n",
    "    return y_submission"
   ],
   "metadata": {
    "collapsed": false,
    "pycharm": {
     "name": "#%%\n"
    }
   }
  },
  {
   "cell_type": "code",
   "execution_count": null,
   "outputs": [],
   "source": [
    "y_sub = OnlineStacking(train, target, test)\n",
    "\n",
    "sub= pd.DataFrame()\n",
    "sub['user_id'] = test_data['user_id']\n",
    "sub['merchant_id'] = test_data['merchant_id']\n",
    "sub['merchant_id'] = sub['merchant_id'].astype(int)\n",
    "sub['predict_prob'] = y_sub\n",
    "sub.to_csv('submission.csv',header=True, index=False)\n"
   ],
   "metadata": {
    "collapsed": false,
    "pycharm": {
     "name": "#%%\n"
    }
   }
  },
  {
   "cell_type": "code",
   "execution_count": 4,
   "outputs": [],
   "source": [
    "import pandas as pd\n",
    "df_sub0 = pd.read_csv(\"submission.csv\")\n",
    "GBDT_sub = df_sub0['predict_prob'].values"
   ],
   "metadata": {
    "collapsed": false,
    "pycharm": {
     "name": "#%%\n"
    }
   }
  },
  {
   "cell_type": "code",
   "execution_count": 5,
   "outputs": [],
   "source": [
    "train_data = pd.read_csv('train150.csv',nrows=None)\n",
    "test_data = pd.read_csv('test150.csv',nrows=None)\n",
    "\n",
    "features_columns = [col for col in train_data.columns if col not in ['user_id','label']]\n",
    "train = train_data[features_columns].values\n",
    "target = train_data['label'].values\n",
    "test = test_data[features_columns].values"
   ],
   "metadata": {
    "collapsed": false,
    "pycharm": {
     "name": "#%%\n"
    }
   }
  },
  {
   "cell_type": "code",
   "execution_count": 8,
   "outputs": [
    {
     "name": "stderr",
     "output_type": "stream",
     "text": [
      "e:\\python38\\lib\\site-packages\\sklearn\\linear_model\\_logistic.py:762: ConvergenceWarning: lbfgs failed to converge (status=1):\n",
      "STOP: TOTAL NO. of ITERATIONS REACHED LIMIT.\n",
      "\n",
      "Increase the number of iterations (max_iter) or scale the data as shown in:\n",
      "    https://scikit-learn.org/stable/modules/preprocessing.html\n",
      "Please also refer to the documentation for alternative solver options:\n",
      "    https://scikit-learn.org/stable/modules/linear_model.html#logistic-regression\n",
      "  n_iter_i = _check_optimize_result(\n"
     ]
    }
   ],
   "source": [
    "# # ranking average\n",
    "#\n",
    "# from sklearn.linear_model import LogisticRegression\n",
    "# from sklearn.preprocessing import StandardScaler\n",
    "# from imblearn.combine import SMOTETomek\n",
    "# train1, target1 = SMOTETomek().fit_sample(train, target)\n",
    "# train2 = StandardScaler().fit_transform(train1)\n",
    "# test1 = StandardScaler().fit_transform(test)\n",
    "# clf = LogisticRegression()\n",
    "# clf.fit(train2, target1)\n",
    "# LR_sub = clf.predict_proba(test1)[:,1]\n",
    "#\n",
    "# wsub = GBDT_sub*0.7+LR_sub*0.3\n",
    "#\n",
    "# df_sub0['predict_prob'] = wsub\n",
    "# df_sub0.to_csv('submission1.csv',header=True, index=False)"
   ],
   "metadata": {
    "collapsed": false,
    "pycharm": {
     "name": "#%%\n"
    }
   }
  },
  {
   "cell_type": "code",
   "execution_count": null,
   "outputs": [],
   "source": [
    "# from sklearn.ensemble import GradientBoostingClassifier\n",
    "#\n",
    "# test = test_data[features_columns].values\n",
    "#\n",
    "# clf = GradientBoostingClassifier(n_estimators=100, learning_rate=1.0, max_depth=1, random_state=0)\n",
    "# clf = LogisticRegression()\n",
    "# train = StandardScaler().fit_transform(train)\n",
    "# clf.fit(train, target)\n",
    "# clf.fit(train, target)\n",
    "# y_proba = clf.predict_proba(test)\n",
    "#\n",
    "# sub= pd.DataFrame()\n",
    "# sub['user_id'] = test_data['user_id']\n",
    "# sub['merchant_id'] = test_data['merchant_id']\n",
    "# sub['merchant_id'] = sub['merchant_id'].astype(int)\n",
    "# sub['predict_prob'] = y_proba[:,1]\n",
    "# sub.to_csv('submission.csv',header=True, index=False)\n"
   ],
   "metadata": {
    "collapsed": false,
    "pycharm": {
     "name": "#%%\n",
     "is_executing": true
    }
   }
  },
  {
   "cell_type": "code",
   "execution_count": null,
   "outputs": [],
   "source": [],
   "metadata": {
    "collapsed": false,
    "pycharm": {
     "name": "#%%\n",
     "is_executing": true
    }
   }
  }
 ],
 "metadata": {
  "kernelspec": {
   "display_name": "Python 3",
   "language": "python",
   "name": "python3"
  },
  "language_info": {
   "codemirror_mode": {
    "name": "ipython",
    "version": 2
   },
   "file_extension": ".py",
   "mimetype": "text/x-python",
   "name": "python",
   "nbconvert_exporter": "python",
   "pygments_lexer": "ipython2",
   "version": "2.7.6"
  }
 },
 "nbformat": 4,
 "nbformat_minor": 0
}